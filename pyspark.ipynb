{
 "cells": [
  {
   "cell_type": "code",
   "execution_count": 19,
   "id": "1a59a02b",
   "metadata": {},
   "outputs": [],
   "source": [
    "import pyspark\n",
    "from pyspark.sql import SparkSession"
   ]
  },
  {
   "cell_type": "code",
   "execution_count": 20,
   "id": "bbe22f64",
   "metadata": {},
   "outputs": [],
   "source": [
    "spark = SparkSession.builder.appName('practice').getOrCreate()"
   ]
  },
  {
   "cell_type": "code",
   "execution_count": 21,
   "id": "5b2d8650",
   "metadata": {},
   "outputs": [],
   "source": [
    "df_spark = spark.read.csv('/home/anhtupham99/NBA-analytics/data/json_to_csv/nba_players_seasonal_stats.csv', header=True, inferSchema=True)"
   ]
  },
  {
   "cell_type": "code",
   "execution_count": 22,
   "id": "de0218fa",
   "metadata": {},
   "outputs": [
    {
     "name": "stdout",
     "output_type": "stream",
     "text": [
      "root\n",
      " |-- team: string (nullable = true)\n",
      " |-- ftm: double (nullable = true)\n",
      " |-- fta: double (nullable = true)\n",
      " |-- stl: double (nullable = true)\n",
      " |-- dreb: double (nullable = true)\n",
      " |-- td3: double (nullable = true)\n",
      " |-- ft_pct: double (nullable = true)\n",
      " |-- losses: integer (nullable = true)\n",
      " |-- blk: double (nullable = true)\n",
      " |-- min: double (nullable = true)\n",
      " |-- tov: double (nullable = true)\n",
      " |-- pts: double (nullable = true)\n",
      " |-- reb: double (nullable = true)\n",
      " |-- age: integer (nullable = true)\n",
      " |-- fgm: double (nullable = true)\n",
      " |-- fg_pct: double (nullable = true)\n",
      " |-- oreb: double (nullable = true)\n",
      " |-- ast: double (nullable = true)\n",
      " |-- dd2: double (nullable = true)\n",
      " |-- gp: integer (nullable = true)\n",
      " |-- wins: integer (nullable = true)\n",
      " |-- pf: double (nullable = true)\n",
      " |-- three_pa: double (nullable = true)\n",
      " |-- year: integer (nullable = true)\n",
      " |-- fga: double (nullable = true)\n",
      " |-- player: string (nullable = true)\n",
      " |-- three_ppct: double (nullable = true)\n",
      " |-- plus_minus_box: double (nullable = true)\n",
      " |-- fp: double (nullable = true)\n",
      " |-- three_pm: double (nullable = true)\n",
      "\n"
     ]
    }
   ],
   "source": [
    "df_spark.printSchema()"
   ]
  },
  {
   "cell_type": "code",
   "execution_count": 23,
   "id": "cc320bdd",
   "metadata": {},
   "outputs": [
    {
     "name": "stdout",
     "output_type": "stream",
     "text": [
      "+----------------+----+\n",
      "|          player| pts|\n",
      "+----------------+----+\n",
      "|  Michael Jordan|29.6|\n",
      "|     Karl Malone|27.4|\n",
      "|       Glen Rice|26.8|\n",
      "|Shaquille O'Neal|26.2|\n",
      "|  Mitch Richmond|25.9|\n",
      "+----------------+----+\n",
      "only showing top 5 rows\n",
      "\n"
     ]
    }
   ],
   "source": [
    "df_spark.select(['player', 'pts']).show(5)"
   ]
  },
  {
   "cell_type": "code",
   "execution_count": 24,
   "id": "b8fe5b3c",
   "metadata": {},
   "outputs": [
    {
     "name": "stderr",
     "output_type": "stream",
     "text": [
      "[Stage 17:>                                                         (0 + 1) / 1]\r"
     ]
    },
    {
     "name": "stdout",
     "output_type": "stream",
     "text": [
      "+-------+-----+------------------+------------------+-------------------+------------------+------------------+------------------+------------------+------------------+-----------------+------------------+-----------------+------------------+-----------------+------------------+------------------+------------------+------------------+-----------------+------------------+------------------+------------------+------------------+------------------+-----------------+--------------+------------------+-------------------+------------------+------------------+\n",
      "|summary| team|               ftm|               fta|                stl|              dreb|               td3|            ft_pct|            losses|               blk|              min|               tov|              pts|               reb|              age|               fgm|            fg_pct|              oreb|               ast|              dd2|                gp|              wins|                pf|          three_pa|              year|              fga|        player|        three_ppct|     plus_minus_box|                fp|          three_pm|\n",
      "+-------+-----+------------------+------------------+-------------------+------------------+------------------+------------------+------------------+------------------+-----------------+------------------+-----------------+------------------+-----------------+------------------+------------------+------------------+------------------+-----------------+------------------+------------------+------------------+------------------+------------------+-----------------+--------------+------------------+-------------------+------------------+------------------+\n",
      "|  count|13418|             13418|             13418|              13418|             13418|             13418|             13418|             13418|             13418|            13418|             13418|            13418|             13418|            13418|             13418|             13418|             13418|             13418|            13418|             13418|             13418|             13418|             13418|             13418|            13418|         13418|             13418|              13418|             13418|             13418|\n",
      "|   mean| NULL|1.4618348487106791|1.9467059174243584| 0.6390743777015979|2.6086152928901476|0.1281114920256372| 69.97916231927303| 25.46609032642719|0.4085780295125946|20.15132657624086| 1.160314502906534| 8.22053957370696|3.5501117901326746|27.00789983604114|3.0652407214189923|43.627984796541895|0.9432627813384978| 1.832009241317632|4.248174094499926|50.935534356834104|25.469444030406915|1.8113578774779946|1.8036890743776954|2010.1786406319868|6.826717841705181|          NULL| 24.88785213891763|-0.3480250409897152| 17.20105082724708| 0.630809360560444|\n",
      "| stddev| NULL|1.3989520462148115|1.7600863918699576|0.43940775590983744|1.7984831267319656|1.0831419197710659|20.200001021654277|14.641402066590354|0.4654847558158369|9.987211773077304|0.7992896466495064|6.051707576313814|2.4759106956831167|4.338865702005383| 2.204298825905997| 10.19582505019176|0.8153953885499692|1.8042099209860307| 9.14880576688692| 25.12751298010119|15.934463613785303|0.8151482388032226|1.9185592504758635| 8.171545268561985|4.654027561833197|          NULL|17.409932621545604| 2.9655168652821415|10.978905815189883|0.7303033809817728|\n",
      "|    min|  ATL|               0.0|               0.0|                0.0|               0.0|               0.0|               0.0|                 0|               0.0|              0.1|               0.0|              0.0|               0.0|               18|               0.0|               0.0|               0.0|               0.0|              0.0|                 1|                 0|               0.0|               0.0|              1996|              0.0|    A.C. Green|               0.0|              -30.7|              -2.3|               0.0|\n",
      "|    max|  WAS|              10.2|              13.1|                3.0|              11.5|              42.0|             100.0|                71|               3.9|             43.7|               5.7|             36.1|              16.3|               44|              12.2|             100.0|               6.8|              11.7|             77.0|                85|                73|               6.0|              13.2|              2023|             27.8|Zylan Cheatham|             100.0|               28.0|              61.5|               5.3|\n",
      "+-------+-----+------------------+------------------+-------------------+------------------+------------------+------------------+------------------+------------------+-----------------+------------------+-----------------+------------------+-----------------+------------------+------------------+------------------+------------------+-----------------+------------------+------------------+------------------+------------------+------------------+-----------------+--------------+------------------+-------------------+------------------+------------------+\n",
      "\n"
     ]
    },
    {
     "name": "stderr",
     "output_type": "stream",
     "text": [
      "                                                                                \r"
     ]
    }
   ],
   "source": [
    "df_spark.describe().show()"
   ]
  },
  {
   "cell_type": "code",
   "execution_count": 25,
   "id": "93d3194b",
   "metadata": {},
   "outputs": [
    {
     "data": {
      "text/plain": [
       "DataFrame[team: string, ftm: double, fta: double, stl: double, dreb: double, td3: double, ft_pct: double, losses: int, blk: double, min: double, tov: double, pts: double, reb: double, age: int, fgm: double, fg_pct: double, oreb: double, ast: double, dd2: double, gp: int, wins: int, pf: double, three_pa: double, year: int, fga: double, player: string, three_ppct: double, plus_minus_box: double, fp: double, three_pm: double, gp_example: int]"
      ]
     },
     "execution_count": 25,
     "metadata": {},
     "output_type": "execute_result"
    }
   ],
   "source": [
    "df_spark.withColumn('gp_example', df_spark['gp'] + 1)"
   ]
  },
  {
   "cell_type": "code",
   "execution_count": 26,
   "id": "ea19a64a",
   "metadata": {},
   "outputs": [
    {
     "name": "stdout",
     "output_type": "stream",
     "text": [
      "+----+---+---+---+----+---+------+------+---+----+---+----+---+---+----+------+----+---+----+---+----+---+--------+----+----+--------------+----------+--------------+----+--------+\n",
      "|team|ftm|fta|stl|dreb|td3|ft_pct|losses|blk| min|tov| pts|reb|age| fgm|fg_pct|oreb|ast| dd2| gp|wins| pf|three_pa|year| fga|        player|three_ppct|plus_minus_box|  fp|three_pm|\n",
      "+----+---+---+---+----+---+------+------+---+----+---+----+---+---+----+------+----+---+----+---+----+---+--------+----+----+--------------+----------+--------------+----+--------+\n",
      "| CHI|5.9|7.0|1.7| 4.5|1.0|  83.3|    13|0.5|37.9|2.0|29.6|5.9| 34|11.2|  48.6| 1.4|4.3| 9.0| 82|  69|1.9|     3.6|1996|23.1|Michael Jordan|      37.4|          10.0|47.8|     1.4|\n",
      "| UTA|6.4|8.4|1.4| 7.5|1.0|  75.5|    18|0.6|36.6|2.8|27.4|9.9| 33|10.5|  55.0| 2.4|4.5|43.0| 82|  64|2.6|     0.2|1996|19.2|   Karl Malone|       0.0|           9.4|49.0|     0.0|\n",
      "+----+---+---+---+----+---+------+------+---+----+---+----+---+---+----+------+----+---+----+---+----+---+--------+----+----+--------------+----------+--------------+----+--------+\n",
      "only showing top 2 rows\n",
      "\n"
     ]
    }
   ],
   "source": [
    "df_spark.drop('gp_example').show(2)"
   ]
  },
  {
   "cell_type": "code",
   "execution_count": null,
   "id": "bf3530b1",
   "metadata": {},
   "outputs": [
    {
     "data": {
      "text/plain": [
       "DataFrame[team: string, ftm: double, fta: double, stl: double, dreb: double, td3: double, ft_pct: double, losses: int, blk: double, min: double, tov: double, pts: double, reb: double, age: int, fgm: double, fg_pct: double, oreb: double, ast: double, dd2: double, gp: int, wins: int, pf: double, three_pa: double, year: int, fga: double, player: string, three_ppct: double, plus_minus_box: double, fp: double, three_pm: double]"
      ]
     },
     "execution_count": 27,
     "metadata": {},
     "output_type": "execute_result"
    }
   ],
   "source": [
    "df_spark.withColumnRenamed('player', 'player_name')"
   ]
  },
  {
   "cell_type": "code",
   "execution_count": null,
   "id": "147a00fc",
   "metadata": {},
   "outputs": [
    {
     "data": {
      "text/plain": [
       "DataFrame[team: string, ftm: double, fta: double, stl: double, dreb: double, td3: double, ft_pct: double, losses: int, blk: double, min: double, tov: double, pts: double, reb: double, age: int, fgm: double, fg_pct: double, oreb: double, ast: double, dd2: double, gp: int, wins: int, pf: double, three_pa: double, year: int, fga: double, player: string, three_ppct: double, plus_minus_box: double, fp: double, three_pm: double]"
      ]
     },
     "execution_count": 28,
     "metadata": {},
     "output_type": "execute_result"
    }
   ],
   "source": [
    "df_spark.na.drop(how='all', thresh=2) # Thresh = at least # of non-null values"
   ]
  },
  {
   "cell_type": "code",
   "execution_count": null,
   "id": "58264705",
   "metadata": {},
   "outputs": [],
   "source": []
  }
 ],
 "metadata": {
  "kernelspec": {
   "display_name": "nba",
   "language": "python",
   "name": "python3"
  },
  "language_info": {
   "codemirror_mode": {
    "name": "ipython",
    "version": 3
   },
   "file_extension": ".py",
   "mimetype": "text/x-python",
   "name": "python",
   "nbconvert_exporter": "python",
   "pygments_lexer": "ipython3",
   "version": "3.11.9"
  }
 },
 "nbformat": 4,
 "nbformat_minor": 5
}
