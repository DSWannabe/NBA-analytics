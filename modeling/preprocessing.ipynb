{
 "cells": [
  {
   "cell_type": "code",
   "execution_count": 33,
   "metadata": {},
   "outputs": [
    {
     "data": {
      "text/plain": [
       "polars.config.Config"
      ]
     },
     "execution_count": 33,
     "metadata": {},
     "output_type": "execute_result"
    }
   ],
   "source": [
    "import polars as pl\n",
    "import numpy as np\n",
    "import plotly.graph_objects as go\n",
    "\n",
    "pl.Config.set_tbl_cols(None)"
   ]
  },
  {
   "cell_type": "markdown",
   "metadata": {},
   "source": [
    "### nba_player_seasonal_stats"
   ]
  },
  {
   "cell_type": "code",
   "execution_count": 24,
   "metadata": {},
   "outputs": [
    {
     "data": {
      "text/html": [
       "<div><style>\n",
       ".dataframe > thead > tr,\n",
       ".dataframe > tbody > tr {\n",
       "  text-align: right;\n",
       "  white-space: pre-wrap;\n",
       "}\n",
       "</style>\n",
       "<small>shape: (4_012, 29)</small><table border=\"1\" class=\"dataframe\"><thead><tr><th>td3</th><th>losses</th><th>plus_minus_box</th><th>fg_pct</th><th>three_pa</th><th>tov</th><th>ftm</th><th>pf</th><th>wins</th><th>oreb</th><th>dreb</th><th>min</th><th>ft_pct</th><th>fp</th><th>stl</th><th>three_ppct</th><th>fga</th><th>fta</th><th>gp</th><th>pts</th><th>ast</th><th>fgm</th><th>dd2</th><th>three_pm</th><th>age</th><th>player</th><th>reb</th><th>team</th><th>blk</th></tr><tr><td>f64</td><td>i64</td><td>f64</td><td>f64</td><td>f64</td><td>f64</td><td>f64</td><td>f64</td><td>i64</td><td>f64</td><td>f64</td><td>f64</td><td>f64</td><td>f64</td><td>f64</td><td>f64</td><td>f64</td><td>f64</td><td>i64</td><td>f64</td><td>f64</td><td>f64</td><td>f64</td><td>f64</td><td>i64</td><td>str</td><td>f64</td><td>str</td><td>f64</td></tr></thead><tbody><tr><td>1.0</td><td>13</td><td>10.0</td><td>48.6</td><td>3.6</td><td>2.0</td><td>5.9</td><td>1.9</td><td>69</td><td>1.4</td><td>4.5</td><td>37.9</td><td>83.3</td><td>47.8</td><td>1.7</td><td>37.4</td><td>23.1</td><td>7.0</td><td>82</td><td>29.6</td><td>4.3</td><td>11.2</td><td>9.0</td><td>1.4</td><td>34</td><td>&quot;Michael Jordan&quot;</td><td>5.9</td><td>&quot;CHI&quot;</td><td>0.5</td></tr><tr><td>1.0</td><td>18</td><td>9.4</td><td>55.0</td><td>0.2</td><td>2.8</td><td>6.4</td><td>2.6</td><td>64</td><td>2.4</td><td>7.5</td><td>36.6</td><td>75.5</td><td>49.0</td><td>1.4</td><td>0.0</td><td>19.2</td><td>8.4</td><td>82</td><td>27.4</td><td>4.5</td><td>10.5</td><td>43.0</td><td>0.0</td><td>33</td><td>&quot;Karl Malone&quot;</td><td>9.9</td><td>&quot;UTA&quot;</td><td>0.6</td></tr><tr><td>0.0</td><td>27</td><td>2.2</td><td>47.7</td><td>5.6</td><td>2.2</td><td>5.9</td><td>2.4</td><td>52</td><td>0.8</td><td>3.2</td><td>42.5</td><td>86.7</td><td>36.1</td><td>0.9</td><td>47.0</td><td>19.2</td><td>6.8</td><td>79</td><td>26.8</td><td>2.0</td><td>9.1</td><td>0.0</td><td>2.6</td><td>30</td><td>&quot;Glen Rice&quot;</td><td>4.0</td><td>&quot;CHH&quot;</td><td>0.3</td></tr><tr><td>0.0</td><td>13</td><td>5.2</td><td>55.7</td><td>0.1</td><td>2.9</td><td>4.5</td><td>3.5</td><td>38</td><td>3.8</td><td>8.7</td><td>38.1</td><td>48.4</td><td>54.4</td><td>0.9</td><td>0.0</td><td>19.4</td><td>9.4</td><td>51</td><td>26.2</td><td>3.1</td><td>10.8</td><td>44.0</td><td>0.0</td><td>25</td><td>&quot;Shaquille O&#x27;Neal&quot;</td><td>12.5</td><td>&quot;LAL&quot;</td><td>2.9</td></tr><tr><td>1.0</td><td>47</td><td>-1.9</td><td>45.4</td><td>5.9</td><td>2.9</td><td>5.6</td><td>2.5</td><td>34</td><td>0.7</td><td>3.2</td><td>38.6</td><td>86.1</td><td>39.2</td><td>1.5</td><td>42.8</td><td>19.5</td><td>6.6</td><td>81</td><td>25.9</td><td>4.2</td><td>8.9</td><td>4.0</td><td>2.5</td><td>32</td><td>&quot;Mitch Richmond&quot;</td><td>3.9</td><td>&quot;SAC&quot;</td><td>0.3</td></tr><tr><td>&hellip;</td><td>&hellip;</td><td>&hellip;</td><td>&hellip;</td><td>&hellip;</td><td>&hellip;</td><td>&hellip;</td><td>&hellip;</td><td>&hellip;</td><td>&hellip;</td><td>&hellip;</td><td>&hellip;</td><td>&hellip;</td><td>&hellip;</td><td>&hellip;</td><td>&hellip;</td><td>&hellip;</td><td>&hellip;</td><td>&hellip;</td><td>&hellip;</td><td>&hellip;</td><td>&hellip;</td><td>&hellip;</td><td>&hellip;</td><td>&hellip;</td><td>&hellip;</td><td>&hellip;</td><td>&hellip;</td><td>&hellip;</td></tr><tr><td>0.0</td><td>0</td><td>0.0</td><td>0.0</td><td>0.0</td><td>0.0</td><td>0.0</td><td>0.0</td><td>2</td><td>0.0</td><td>0.0</td><td>0.4</td><td>0.0</td><td>0.0</td><td>0.0</td><td>0.0</td><td>0.0</td><td>0.0</td><td>2</td><td>0.0</td><td>0.0</td><td>0.0</td><td>0.0</td><td>0.0</td><td>29</td><td>&quot;Justin Jackson&quot;</td><td>0.0</td><td>&quot;MIN&quot;</td><td>0.0</td></tr><tr><td>0.0</td><td>1</td><td>-2.0</td><td>0.0</td><td>2.0</td><td>0.0</td><td>0.0</td><td>0.0</td><td>0</td><td>0.0</td><td>1.0</td><td>7.4</td><td>0.0</td><td>1.2</td><td>0.0</td><td>0.0</td><td>4.0</td><td>0.0</td><td>1</td><td>0.0</td><td>0.0</td><td>0.0</td><td>0.0</td><td>0.0</td><td>27</td><td>&quot;Kaiser Gates&quot;</td><td>1.0</td><td>&quot;NOP&quot;</td><td>0.0</td></tr><tr><td>0.0</td><td>1</td><td>5.0</td><td>0.0</td><td>0.0</td><td>0.0</td><td>0.0</td><td>0.0</td><td>0</td><td>0.0</td><td>0.0</td><td>2.6</td><td>0.0</td><td>0.0</td><td>0.0</td><td>0.0</td><td>0.0</td><td>0.0</td><td>1</td><td>0.0</td><td>0.0</td><td>0.0</td><td>0.0</td><td>0.0</td><td>22</td><td>&quot;Malcolm Cazalon&quot;</td><td>0.0</td><td>&quot;DET&quot;</td><td>0.0</td></tr><tr><td>0.0</td><td>0</td><td>-9.0</td><td>0.0</td><td>0.0</td><td>0.0</td><td>0.0</td><td>2.0</td><td>1</td><td>0.0</td><td>0.0</td><td>3.7</td><td>0.0</td><td>1.5</td><td>0.0</td><td>0.0</td><td>0.0</td><td>0.0</td><td>1</td><td>0.0</td><td>1.0</td><td>0.0</td><td>0.0</td><td>0.0</td><td>24</td><td>&quot;Ron Harper Jr.&quot;</td><td>0.0</td><td>&quot;TOR&quot;</td><td>0.0</td></tr><tr><td>0.0</td><td>5</td><td>0.1</td><td>0.0</td><td>0.3</td><td>0.1</td><td>0.0</td><td>0.3</td><td>15</td><td>0.0</td><td>0.4</td><td>2.3</td><td>0.0</td><td>1.0</td><td>0.1</td><td>0.0</td><td>0.3</td><td>0.0</td><td>20</td><td>0.0</td><td>0.2</td><td>0.0</td><td>0.0</td><td>0.0</td><td>30</td><td>&quot;Ryan Arcidiacono&quot;</td><td>0.4</td><td>&quot;NYK&quot;</td><td>0.0</td></tr></tbody></table></div>"
      ],
      "text/plain": [
       "shape: (4_012, 29)\n",
       "┌─────┬────────┬────────────────┬────────┬───┬──────────────────┬──────┬──────┬─────┐\n",
       "│ td3 ┆ losses ┆ plus_minus_box ┆ fg_pct ┆ … ┆ player           ┆ reb  ┆ team ┆ blk │\n",
       "│ --- ┆ ---    ┆ ---            ┆ ---    ┆   ┆ ---              ┆ ---  ┆ ---  ┆ --- │\n",
       "│ f64 ┆ i64    ┆ f64            ┆ f64    ┆   ┆ str              ┆ f64  ┆ str  ┆ f64 │\n",
       "╞═════╪════════╪════════════════╪════════╪═══╪══════════════════╪══════╪══════╪═════╡\n",
       "│ 1.0 ┆ 13     ┆ 10.0           ┆ 48.6   ┆ … ┆ Michael Jordan   ┆ 5.9  ┆ CHI  ┆ 0.5 │\n",
       "│ 1.0 ┆ 18     ┆ 9.4            ┆ 55.0   ┆ … ┆ Karl Malone      ┆ 9.9  ┆ UTA  ┆ 0.6 │\n",
       "│ 0.0 ┆ 27     ┆ 2.2            ┆ 47.7   ┆ … ┆ Glen Rice        ┆ 4.0  ┆ CHH  ┆ 0.3 │\n",
       "│ 0.0 ┆ 13     ┆ 5.2            ┆ 55.7   ┆ … ┆ Shaquille O'Neal ┆ 12.5 ┆ LAL  ┆ 2.9 │\n",
       "│ 1.0 ┆ 47     ┆ -1.9           ┆ 45.4   ┆ … ┆ Mitch Richmond   ┆ 3.9  ┆ SAC  ┆ 0.3 │\n",
       "│ …   ┆ …      ┆ …              ┆ …      ┆ … ┆ …                ┆ …    ┆ …    ┆ …   │\n",
       "│ 0.0 ┆ 0      ┆ 0.0            ┆ 0.0    ┆ … ┆ Justin Jackson   ┆ 0.0  ┆ MIN  ┆ 0.0 │\n",
       "│ 0.0 ┆ 1      ┆ -2.0           ┆ 0.0    ┆ … ┆ Kaiser Gates     ┆ 1.0  ┆ NOP  ┆ 0.0 │\n",
       "│ 0.0 ┆ 1      ┆ 5.0            ┆ 0.0    ┆ … ┆ Malcolm Cazalon  ┆ 0.0  ┆ DET  ┆ 0.0 │\n",
       "│ 0.0 ┆ 0      ┆ -9.0           ┆ 0.0    ┆ … ┆ Ron Harper Jr.   ┆ 0.0  ┆ TOR  ┆ 0.0 │\n",
       "│ 0.0 ┆ 5      ┆ 0.1            ┆ 0.0    ┆ … ┆ Ryan Arcidiacono ┆ 0.4  ┆ NYK  ┆ 0.0 │\n",
       "└─────┴────────┴────────────────┴────────┴───┴──────────────────┴──────┴──────┴─────┘"
      ]
     },
     "execution_count": 24,
     "metadata": {},
     "output_type": "execute_result"
    }
   ],
   "source": [
    "df_1 = pl.read_csv('/home/anhtupham99/NBA-analytics/data/json_to_csv/nba_players_seasonal_stats.csv', encoding=\"utf-8\")\n",
    "df_1"
   ]
  },
  {
   "cell_type": "code",
   "execution_count": 40,
   "metadata": {},
   "outputs": [
    {
     "name": "stdout",
     "output_type": "stream",
     "text": [
      "td3 has  0\n",
      "losses has  0\n",
      "plus_minus_box has  0\n",
      "fg_pct has  0\n",
      "three_pa has  0\n",
      "tov has  0\n",
      "ftm has  0\n",
      "pf has  0\n",
      "wins has  0\n",
      "oreb has  0\n",
      "dreb has  0\n",
      "min has  0\n",
      "ft_pct has  0\n",
      "fp has  0\n",
      "stl has  0\n",
      "three_ppct has  0\n",
      "fga has  0\n",
      "fta has  0\n",
      "gp has  0\n",
      "pts has  0\n",
      "ast has  0\n",
      "fgm has  0\n",
      "dd2 has  0\n",
      "three_pm has  0\n",
      "age has  0\n",
      "player has  0\n",
      "reb has  0\n",
      "team has  0\n",
      "blk has  0\n"
     ]
    },
    {
     "ename": "TypeError",
     "evalue": "DataType.is_numeric() takes 1 positional argument but 2 were given",
     "output_type": "error",
     "traceback": [
      "\u001b[0;31m---------------------------------------------------------------------------\u001b[0m",
      "\u001b[0;31mTypeError\u001b[0m                                 Traceback (most recent call last)",
      "Cell \u001b[0;32mIn[40], line 45\u001b[0m\n\u001b[1;32m     42\u001b[0m     \u001b[38;5;66;03m# show the plot\u001b[39;00m\n\u001b[1;32m     43\u001b[0m     fig\u001b[38;5;241m.\u001b[39mshow()\n\u001b[0;32m---> 45\u001b[0m \u001b[43mpreprocess\u001b[49m\u001b[43m(\u001b[49m\u001b[43mdf_1\u001b[49m\u001b[43m)\u001b[49m\n",
      "Cell \u001b[0;32mIn[40], line 10\u001b[0m, in \u001b[0;36mpreprocess\u001b[0;34m(data)\u001b[0m\n\u001b[1;32m      5\u001b[0m     \u001b[38;5;28mprint\u001b[39m(\u001b[38;5;124mf\u001b[39m\u001b[38;5;124m\"\u001b[39m\u001b[38;5;132;01m{\u001b[39;00mcol\u001b[38;5;132;01m}\u001b[39;00m\u001b[38;5;124m has \u001b[39m\u001b[38;5;124m\"\u001b[39m, data[col]\u001b[38;5;241m.\u001b[39mis_null()\u001b[38;5;241m.\u001b[39msum())\n\u001b[1;32m      7\u001b[0m \u001b[38;5;66;03m#VISUALIZE\u001b[39;00m\n\u001b[1;32m      8\u001b[0m \n\u001b[1;32m      9\u001b[0m \u001b[38;5;66;03m# get only numerical columns\u001b[39;00m\n\u001b[0;32m---> 10\u001b[0m numeric_cols \u001b[38;5;241m=\u001b[39m \u001b[43m[\u001b[49m\u001b[43mcol\u001b[49m\u001b[43m \u001b[49m\u001b[38;5;28;43;01mfor\u001b[39;49;00m\u001b[43m \u001b[49m\u001b[43mcol\u001b[49m\u001b[43m \u001b[49m\u001b[38;5;129;43;01min\u001b[39;49;00m\u001b[43m \u001b[49m\u001b[43mdata\u001b[49m\u001b[38;5;241;43m.\u001b[39;49m\u001b[43mcolumns\u001b[49m\u001b[43m \u001b[49m\u001b[38;5;28;43;01mif\u001b[39;49;00m\u001b[43m \u001b[49m\u001b[43mpl\u001b[49m\u001b[38;5;241;43m.\u001b[39;49m\u001b[43mDataType\u001b[49m\u001b[38;5;241;43m.\u001b[39;49m\u001b[43mis_numeric\u001b[49m\u001b[43m(\u001b[49m\u001b[43mdata\u001b[49m\u001b[43m[\u001b[49m\u001b[43mcol\u001b[49m\u001b[43m]\u001b[49m\u001b[43m)\u001b[49m\u001b[43m]\u001b[49m\n\u001b[1;32m     12\u001b[0m \u001b[38;5;66;03m# calculate variance\u001b[39;00m\n\u001b[1;32m     13\u001b[0m variances \u001b[38;5;241m=\u001b[39m data\u001b[38;5;241m.\u001b[39mselect([pl\u001b[38;5;241m.\u001b[39mcol(col)\u001b[38;5;241m.\u001b[39mvar()\u001b[38;5;241m.\u001b[39malias(col) \u001b[38;5;28;01mfor\u001b[39;00m col \u001b[38;5;129;01min\u001b[39;00m numeric_cols])\u001b[38;5;241m.\u001b[39mto_dict(as_series\u001b[38;5;241m=\u001b[39m\u001b[38;5;28;01mFalse\u001b[39;00m)\n",
      "Cell \u001b[0;32mIn[40], line 10\u001b[0m, in \u001b[0;36m<listcomp>\u001b[0;34m(.0)\u001b[0m\n\u001b[1;32m      5\u001b[0m     \u001b[38;5;28mprint\u001b[39m(\u001b[38;5;124mf\u001b[39m\u001b[38;5;124m\"\u001b[39m\u001b[38;5;132;01m{\u001b[39;00mcol\u001b[38;5;132;01m}\u001b[39;00m\u001b[38;5;124m has \u001b[39m\u001b[38;5;124m\"\u001b[39m, data[col]\u001b[38;5;241m.\u001b[39mis_null()\u001b[38;5;241m.\u001b[39msum())\n\u001b[1;32m      7\u001b[0m \u001b[38;5;66;03m#VISUALIZE\u001b[39;00m\n\u001b[1;32m      8\u001b[0m \n\u001b[1;32m      9\u001b[0m \u001b[38;5;66;03m# get only numerical columns\u001b[39;00m\n\u001b[0;32m---> 10\u001b[0m numeric_cols \u001b[38;5;241m=\u001b[39m [col \u001b[38;5;28;01mfor\u001b[39;00m col \u001b[38;5;129;01min\u001b[39;00m data\u001b[38;5;241m.\u001b[39mcolumns \u001b[38;5;28;01mif\u001b[39;00m \u001b[43mpl\u001b[49m\u001b[38;5;241;43m.\u001b[39;49m\u001b[43mDataType\u001b[49m\u001b[38;5;241;43m.\u001b[39;49m\u001b[43mis_numeric\u001b[49m\u001b[43m(\u001b[49m\u001b[43mdata\u001b[49m\u001b[43m[\u001b[49m\u001b[43mcol\u001b[49m\u001b[43m]\u001b[49m\u001b[43m)\u001b[49m]\n\u001b[1;32m     12\u001b[0m \u001b[38;5;66;03m# calculate variance\u001b[39;00m\n\u001b[1;32m     13\u001b[0m variances \u001b[38;5;241m=\u001b[39m data\u001b[38;5;241m.\u001b[39mselect([pl\u001b[38;5;241m.\u001b[39mcol(col)\u001b[38;5;241m.\u001b[39mvar()\u001b[38;5;241m.\u001b[39malias(col) \u001b[38;5;28;01mfor\u001b[39;00m col \u001b[38;5;129;01min\u001b[39;00m numeric_cols])\u001b[38;5;241m.\u001b[39mto_dict(as_series\u001b[38;5;241m=\u001b[39m\u001b[38;5;28;01mFalse\u001b[39;00m)\n",
      "\u001b[0;31mTypeError\u001b[0m: DataType.is_numeric() takes 1 positional argument but 2 were given"
     ]
    }
   ],
   "source": [
    "def preprocess(data):\n",
    "\n",
    "    #CHECK NULL\n",
    "    for col in data.columns:\n",
    "        print(f\"{col} has \", data[col].is_null().sum())\n",
    "\n",
    "    #VISUALIZE\n",
    "\n",
    "    # get only numerical columns\n",
    "    numeric_cols = [col for col in data.columns if pl.DataType.is_numeric(data[col].dtype)]\n",
    "\n",
    "    # calculate variance\n",
    "    variances = data.select([pl.col(col).var().alias(col) for col in numeric_cols]).to_dict(as_series=False)\n",
    "\n",
    "    # flatten the dictionary\n",
    "    variances = {k: v[0] for k, v in variances.items()}\n",
    "    print(variances)\n",
    "\n",
    "    # sort the variances in descending order\n",
    "    variances_sorted = dict(sorted(variances.items(), key=lambda item: item[1], reverse=True))\n",
    "\n",
    "    # create a bar plot\n",
    "    fig = go.Figure(go.Bar(\n",
    "        x=list(variances_sorted.keys()),\n",
    "        y=list(variances_sorted.values()),\n",
    "        text=[f\"{v:.2f}\" for v in variances_sorted.values()], # display the values on the bars\n",
    "        textposition='auto',\n",
    "        marker_color='skyblue'\n",
    "    ))\n",
    "\n",
    "    # update layout\n",
    "    fig.update_layout(\n",
    "        title='variances of data',\n",
    "        xaxis_title='columns',\n",
    "        yaxis_title='variance',\n",
    "        xaxis_tickangle=-45,\n",
    "        height=600,\n",
    "        width=1000,\n",
    "        yaxis_type=\"log\"\n",
    "    )\n",
    "\n",
    "    # show the plot\n",
    "    fig.show()\n",
    "\n",
    "preprocess(df_1)"
   ]
  },
  {
   "cell_type": "code",
   "execution_count": null,
   "metadata": {},
   "outputs": [],
   "source": []
  }
 ],
 "metadata": {
  "kernelspec": {
   "display_name": "nba",
   "language": "python",
   "name": "python3"
  },
  "language_info": {
   "codemirror_mode": {
    "name": "ipython",
    "version": 3
   },
   "file_extension": ".py",
   "mimetype": "text/x-python",
   "name": "python",
   "nbconvert_exporter": "python",
   "pygments_lexer": "ipython3",
   "version": "3.11.9"
  }
 },
 "nbformat": 4,
 "nbformat_minor": 2
}
